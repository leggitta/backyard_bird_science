{
 "cells": [
  {
   "cell_type": "code",
   "execution_count": 9,
   "id": "52751c45-91c1-49ae-9190-a021dbabd9d6",
   "metadata": {},
   "outputs": [],
   "source": [
    "# notebook to remove images that do not occur within 5 minutes of a bird detection"
   ]
  },
  {
   "cell_type": "code",
   "execution_count": 1,
   "id": "ee71ef54-0280-4174-9617-10fd7fe53f08",
   "metadata": {},
   "outputs": [],
   "source": [
    "from PIL import Image\n",
    "import glob\n",
    "import ipywidgets as widgets\n",
    "import matplotlib.pyplot as plt\n",
    "import numpy as np\n",
    "import os\n",
    "import pandas as pd\n",
    "%matplotlib inline"
   ]
  },
  {
   "cell_type": "code",
   "execution_count": 2,
   "id": "3428fa07-b038-40bf-9853-47149fcddc81",
   "metadata": {},
   "outputs": [],
   "source": [
    "bird_files = sorted(glob.glob('detr_results_*[0-9].txt'))\n",
    "all_imfiles = []"
   ]
  },
  {
   "cell_type": "code",
   "execution_count": 3,
   "id": "680e0946-7608-4ec2-9ff8-1eaa347ccf74",
   "metadata": {},
   "outputs": [
    {
     "name": "stdout",
     "output_type": "stream",
     "text": [
      "detr_results_20240212.txt\n",
      "detr_results_20240213.txt\n",
      "detr_results_20240214.txt\n",
      "detr_results_20240215.txt\n",
      "detr_results_20240216.txt\n",
      "detr_results_20240217.txt\n",
      "detr_results_20240218.txt\n",
      "detr_results_20240219.txt\n",
      "detr_results_20240220.txt\n",
      "detr_results_20240221.txt\n",
      "detr_results_20240222.txt\n",
      "detr_results_20240223.txt\n",
      "detr_results_20240224.txt\n",
      "detr_results_20240225.txt\n",
      "detr_results_20240226.txt\n",
      "detr_results_20240227.txt\n",
      "detr_results_20240228.txt\n",
      "detr_results_20240229.txt\n",
      "detr_results_20240301.txt\n",
      "detr_results_20240302.txt\n"
     ]
    }
   ],
   "source": [
    "for f in bird_files:\n",
    "    print(f)\n",
    "    \n",
    "    # extract timestamp\n",
    "    dt = f.rstrip('.txt').split('_')[-1]\n",
    "\n",
    "    # identify images from this day\n",
    "    imfiles = sorted(glob.glob(f'images/{dt}_*.jpg'))\n",
    "    imdata = pd.DataFrame(imfiles, columns=['filename'])\n",
    "    imdata['tstamp'] = pd.to_datetime(imfiles, format='images/%Y%m%d_%H%M%S%f.jpg')\n",
    "    imdata['keep'] = 0\n",
    "\n",
    "    # read bird data\n",
    "    df = pd.read_csv(f, delimiter=';')\n",
    "    df['tstamp'] = pd.to_datetime(df['filename'], format='images/%Y%m%d_%H%M%S%f.jpg')\n",
    "\n",
    "    # iterate over detected birds\n",
    "    for i, row in df.iterrows():\n",
    "        # keep images within 5 minutes of detected bird\n",
    "        ix = np.logical_and(\n",
    "            imdata['tstamp'] > (row['tstamp'] - pd.Timedelta(minutes=5)),\n",
    "            imdata['tstamp'] < (row['tstamp'] + pd.Timedelta(minutes=5))\n",
    "        )\n",
    "        # print(ix.sum())\n",
    "        imdata.loc[ix, 'keep'] = 1\n",
    "\n",
    "    # ensure that every detected bird is marked as keep\n",
    "    assert np.in1d(df['filename'], imdata.query('keep == 1')['filename']).all()\n",
    "    all_imfiles.append(imdata)"
   ]
  },
  {
   "cell_type": "code",
   "execution_count": 4,
   "id": "7cbbe177-4c60-461c-baa6-e934bc06540f",
   "metadata": {},
   "outputs": [],
   "source": [
    "imdata = pd.concat(all_imfiles).reset_index(drop=True)"
   ]
  },
  {
   "cell_type": "code",
   "execution_count": 5,
   "id": "472aac9b-f3eb-49a0-8dd8-d2ac808e87bb",
   "metadata": {},
   "outputs": [],
   "source": [
    "imdata['fsize'] = [os.stat(f).st_size for f in imdata['filename']]"
   ]
  },
  {
   "cell_type": "code",
   "execution_count": 6,
   "id": "8573a208-dad6-435a-b25d-85b3220d8b96",
   "metadata": {},
   "outputs": [
    {
     "data": {
      "text/html": [
       "<div>\n",
       "<style scoped>\n",
       "    .dataframe tbody tr th:only-of-type {\n",
       "        vertical-align: middle;\n",
       "    }\n",
       "\n",
       "    .dataframe tbody tr th {\n",
       "        vertical-align: top;\n",
       "    }\n",
       "\n",
       "    .dataframe thead th {\n",
       "        text-align: right;\n",
       "    }\n",
       "</style>\n",
       "<table border=\"1\" class=\"dataframe\">\n",
       "  <thead>\n",
       "    <tr style=\"text-align: right;\">\n",
       "      <th></th>\n",
       "      <th>filename</th>\n",
       "      <th>fsize</th>\n",
       "    </tr>\n",
       "    <tr>\n",
       "      <th>keep</th>\n",
       "      <th></th>\n",
       "      <th></th>\n",
       "    </tr>\n",
       "  </thead>\n",
       "  <tbody>\n",
       "    <tr>\n",
       "      <th>0</th>\n",
       "      <td>341597</td>\n",
       "      <td>238241989072</td>\n",
       "    </tr>\n",
       "    <tr>\n",
       "      <th>1</th>\n",
       "      <td>301311</td>\n",
       "      <td>239607747250</td>\n",
       "    </tr>\n",
       "  </tbody>\n",
       "</table>\n",
       "</div>"
      ],
      "text/plain": [
       "      filename         fsize\n",
       "keep                        \n",
       "0       341597  238241989072\n",
       "1       301311  239607747250"
      ]
     },
     "execution_count": 6,
     "metadata": {},
     "output_type": "execute_result"
    }
   ],
   "source": [
    "imdata.groupby('keep').agg({\n",
    "    'filename': 'count',\n",
    "    'fsize': 'sum'\n",
    "})"
   ]
  },
  {
   "cell_type": "code",
   "execution_count": 7,
   "id": "05841563-33c3-4a44-b03b-667c463a94db",
   "metadata": {},
   "outputs": [],
   "source": [
    "for i, row in imdata.query('keep == 0').iterrows():\n",
    "    os.rename(row['filename'], row['filename'].replace('images', 'trash'))"
   ]
  },
  {
   "cell_type": "code",
   "execution_count": 8,
   "id": "3384ba37-ee2c-42fb-8d6b-c71285181829",
   "metadata": {},
   "outputs": [],
   "source": [
    "# 182156"
   ]
  }
 ],
 "metadata": {
  "kernelspec": {
   "display_name": "Python 3 (ipykernel)",
   "language": "python",
   "name": "python3"
  },
  "language_info": {
   "codemirror_mode": {
    "name": "ipython",
    "version": 3
   },
   "file_extension": ".py",
   "mimetype": "text/x-python",
   "name": "python",
   "nbconvert_exporter": "python",
   "pygments_lexer": "ipython3",
   "version": "3.11.7"
  }
 },
 "nbformat": 4,
 "nbformat_minor": 5
}
