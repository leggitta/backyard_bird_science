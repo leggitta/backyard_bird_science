{
 "cells": [
  {
   "cell_type": "code",
   "execution_count": 1,
   "id": "000122b9-b8e0-42ea-8356-9a05fdf216de",
   "metadata": {},
   "outputs": [],
   "source": [
    "import torch\n",
    "import glob\n",
    "from PIL import Image\n",
    "from torch.utils.data import Dataset, DataLoader\n",
    "import torchvision.transforms as T\n",
    "from torchvision.utils import make_grid\n",
    "import sys\n",
    "import requests\n",
    "import matplotlib.pyplot as plt\n",
    "from IPython.display import clear_output\n",
    "%matplotlib inline"
   ]
  },
  {
   "cell_type": "code",
   "execution_count": 2,
   "id": "c1392b29-9d44-4e30-a6e4-ed3fa0db2d7f",
   "metadata": {},
   "outputs": [],
   "source": [
    "# https://github.com/facebookresearch/detr"
   ]
  },
  {
   "cell_type": "code",
   "execution_count": 3,
   "id": "9e034aae-5a63-44d1-a19a-001e75b255df",
   "metadata": {},
   "outputs": [],
   "source": [
    "# device = torch.device('cpu')\n",
    "device = torch.device(0)"
   ]
  },
  {
   "cell_type": "code",
   "execution_count": 4,
   "id": "900378df-4e64-4374-a51b-cf2ad1c781a9",
   "metadata": {},
   "outputs": [],
   "source": [
    "CLASSES = [\n",
    "    'N/A', 'person', 'bicycle', 'car', 'motorcycle', 'airplane', 'bus',\n",
    "    'train', 'truck', 'boat', 'traffic light', 'fire hydrant', 'N/A',\n",
    "    'stop sign', 'parking meter', 'bench', 'bird', 'cat', 'dog', 'horse',\n",
    "    'sheep', 'cow', 'elephant', 'bear', 'zebra', 'giraffe', 'N/A', 'backpack',\n",
    "    'umbrella', 'N/A', 'N/A', 'handbag', 'tie', 'suitcase', 'frisbee', 'skis',\n",
    "    'snowboard', 'sports ball', 'kite', 'baseball bat', 'baseball glove',\n",
    "    'skateboard', 'surfboard', 'tennis racket', 'bottle', 'N/A', 'wine glass',\n",
    "    'cup', 'fork', 'knife', 'spoon', 'bowl', 'banana', 'apple', 'sandwich',\n",
    "    'orange', 'broccoli', 'carrot', 'hot dog', 'pizza', 'donut', 'cake',\n",
    "    'chair', 'couch', 'potted plant', 'bed', 'N/A', 'dining table', 'N/A',\n",
    "    'N/A', 'toilet', 'N/A', 'tv', 'laptop', 'mouse', 'remote', 'keyboard',\n",
    "    'cell phone', 'microwave', 'oven', 'toaster', 'sink', 'refrigerator', 'N/A',\n",
    "    'book', 'clock', 'vase', 'scissors', 'teddy bear', 'hair drier',\n",
    "    'toothbrush'\n",
    "]"
   ]
  },
  {
   "cell_type": "code",
   "execution_count": 5,
   "id": "33e3aca6-741c-45bb-99a8-5a67d34bd79d",
   "metadata": {},
   "outputs": [
    {
     "name": "stderr",
     "output_type": "stream",
     "text": [
      "Using cache found in /home/alan/.cache/torch/hub/facebookresearch_detr_main\n",
      "/home/alan/miniconda3/envs/mytorch/lib/python3.11/site-packages/torchvision/models/_utils.py:208: UserWarning: The parameter 'pretrained' is deprecated since 0.13 and may be removed in the future, please use 'weights' instead.\n",
      "  warnings.warn(\n",
      "/home/alan/miniconda3/envs/mytorch/lib/python3.11/site-packages/torchvision/models/_utils.py:223: UserWarning: Arguments other than a weight enum or `None` for 'weights' are deprecated since 0.13 and may be removed in the future. The current behavior is equivalent to passing `weights=ResNet50_Weights.IMAGENET1K_V1`. You can also use `weights=ResNet50_Weights.DEFAULT` to get the most up-to-date weights.\n",
      "  warnings.warn(msg)\n"
     ]
    }
   ],
   "source": [
    "model = torch.hub.load('facebookresearch/detr:main', 'detr_resnet50', pretrained=True).to(device)"
   ]
  },
  {
   "cell_type": "code",
   "execution_count": 6,
   "id": "f929fac4-0531-4104-bbfa-2bf4efb41d9b",
   "metadata": {},
   "outputs": [],
   "source": [
    "dt = 20240306"
   ]
  },
  {
   "cell_type": "code",
   "execution_count": 7,
   "id": "b1801815-6a97-437e-8645-2b6ee0eef3f4",
   "metadata": {},
   "outputs": [],
   "source": [
    "class ImageSet(Dataset):\n",
    "    def __init__(self):\n",
    "        super().__init__()\n",
    "        self.img_files = sorted(glob.glob(f'images/{dt}_*.jpg'))\n",
    "        self.transform =  T.Compose([\n",
    "            T.ToTensor(),\n",
    "            T.Normalize(0.5, 0.5)\n",
    "        ])\n",
    "\n",
    "    def __len__(self):\n",
    "        return len(self.img_files)\n",
    "\n",
    "    def __getitem__(self, i):\n",
    "        img_file = self.img_files[i]\n",
    "        img = Image.open(img_file) \n",
    "        \n",
    "        Z = self.transform(img)  #[:, ::2, ::2]\n",
    "        return Z, img_file"
   ]
  },
  {
   "cell_type": "code",
   "execution_count": 8,
   "id": "b65e47b7-f2d7-4308-83b1-e06a6d212a45",
   "metadata": {},
   "outputs": [],
   "source": [
    "imset = ImageSet()\n",
    "loader = DataLoader(imset, batch_size=1, shuffle=False)"
   ]
  },
  {
   "cell_type": "code",
   "execution_count": 9,
   "id": "3a7b5183-de84-44f1-8aab-cfb54ba5f500",
   "metadata": {},
   "outputs": [],
   "source": [
    "to_pil = T.Compose([\n",
    "    T.Lambda(lambda x: (x+1)/2),\n",
    "    T.ToPILImage()\n",
    "])"
   ]
  },
  {
   "cell_type": "code",
   "execution_count": 10,
   "id": "32c441a9-951c-4d14-89fa-6ff715f2f0b0",
   "metadata": {},
   "outputs": [],
   "source": [
    "fname = f'results/detr_results_{dt}.txt'\n",
    "with open(fname, 'w') as fout:\n",
    "    fout.write('filename;score;bbox\\n')"
   ]
  },
  {
   "cell_type": "code",
   "execution_count": null,
   "id": "1b61f7ee-dea6-4b30-96be-72dddc562574",
   "metadata": {},
   "outputs": [
    {
     "name": "stdout",
     "output_type": "stream",
     "text": [
      "\timages/20240306_030459763725.jpg\t"
     ]
    }
   ],
   "source": [
    "for (Z, img_file) in loader:\n",
    "    sys.stdout.write(f'\\r\\t{img_file[0]}\\t')\n",
    "    Z = Z.to(device)\n",
    "    results = model(Z)\n",
    "    \n",
    "    probs = results['pred_logits'].softmax(-1)\n",
    "    idx = probs.argmax(-1)\n",
    "\n",
    "    n_birds = (idx == 16).sum().item()\n",
    "    \n",
    "    if n_birds > 0:\n",
    "\n",
    "        clear_output(wait=True)\n",
    "        fig, ax = plt.subplots(figsize=(15, 8))\n",
    "        im = to_pil(make_grid(Z, nrow=1))\n",
    "        ax.imshow(im, extent=(0, 1, 1, 0))\n",
    "        for i in range(n_birds):\n",
    "            score = probs[idx==16][i][16].item()\n",
    "            bbox = results['pred_boxes'][idx==16][i].tolist()\n",
    "            ax.plot(\n",
    "                results['pred_boxes'][idx==16][i][0].item(),\n",
    "                results['pred_boxes'][idx==16][i][1].item(),\n",
    "                'ro-'\n",
    "            )\n",
    "            print(img_file[0], score, bbox)\n",
    "\n",
    "            with open(fname, 'a') as fout:\n",
    "                fout.write(f'{img_file[0]};{score};{bbox}\\n')\n",
    "\n",
    "        plt.show()"
   ]
  },
  {
   "cell_type": "code",
   "execution_count": null,
   "id": "575b719b-c002-4ec4-8ebe-2518f5e12dd9",
   "metadata": {},
   "outputs": [],
   "source": []
  }
 ],
 "metadata": {
  "kernelspec": {
   "display_name": "Python 3 (ipykernel)",
   "language": "python",
   "name": "python3"
  },
  "language_info": {
   "codemirror_mode": {
    "name": "ipython",
    "version": 3
   },
   "file_extension": ".py",
   "mimetype": "text/x-python",
   "name": "python",
   "nbconvert_exporter": "python",
   "pygments_lexer": "ipython3",
   "version": "3.11.7"
  }
 },
 "nbformat": 4,
 "nbformat_minor": 5
}
